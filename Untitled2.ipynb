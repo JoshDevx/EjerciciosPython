{
  "nbformat": 4,
  "nbformat_minor": 0,
  "metadata": {
    "colab": {
      "provenance": [],
      "authorship_tag": "ABX9TyP0G8b3lFaOQnLZMwjPb7JH",
      "include_colab_link": true
    },
    "kernelspec": {
      "name": "python3",
      "display_name": "Python 3"
    },
    "language_info": {
      "name": "python"
    }
  },
  "cells": [
    {
      "cell_type": "markdown",
      "metadata": {
        "id": "view-in-github",
        "colab_type": "text"
      },
      "source": [
        "<a href=\"https://colab.research.google.com/github/JoshDevx/EjerciciosPython/blob/main/Untitled2.ipynb\" target=\"_parent\"><img src=\"https://colab.research.google.com/assets/colab-badge.svg\" alt=\"Open In Colab\"/></a>"
      ]
    },
    {
      "cell_type": "code",
      "execution_count": null,
      "metadata": {
        "id": "TtTrpwtnXs6s"
      },
      "outputs": [],
      "source": [
        "lista = [16, 14, 63, 65, 17, 99, 70, 11, 20, 48, 79, 32, 17, 89, 12, 25, 66]\n",
        "# 1. Leer el tamaño de la lista\n",
        "# 2. Leer el valor máximo y mínimo\n",
        "# 3. Calcular la suma de los valores de la lista\n",
        "# 4. Mostrar un mensaje al final: La lista tiene `tamano` números, donde el mayor\n",
        "# es `mayor` y el menor es `menor`. La suma de los valores es `suma`."
      ]
    },
    {
      "cell_type": "code",
      "source": [
        "def leer_lista(lista):\n",
        "  longitud = len(lista)\n",
        "  mayor = max(lista)\n",
        "  menor = min(lista)\n",
        "  suma = sum(lista)\n",
        "  print(f\"La lista tiene {longitud} números, donde el mayor es {mayor} y el menor es {menor}. La suma de los valores es {suma}.\")"
      ],
      "metadata": {
        "id": "iJbnjm3pXteS"
      },
      "execution_count": null,
      "outputs": []
    },
    {
      "cell_type": "code",
      "source": [
        "leer_lista(lista)"
      ],
      "metadata": {
        "colab": {
          "base_uri": "https://localhost:8080/"
        },
        "id": "lrqPn-xyXthJ",
        "outputId": "8b4fcb49-deba-44f8-b282-559384518ca1"
      },
      "execution_count": null,
      "outputs": [
        {
          "output_type": "stream",
          "name": "stdout",
          "text": [
            "La lista tiene 17 números, donde el mayor es 99 y el menor es 11. La suma de los valores es 743.\n"
          ]
        }
      ]
    },
    {
      "cell_type": "code",
      "source": [
        "#Tabla de multiplicar\n",
        "valor_usuario = input('Ingrese un numero')\n",
        "def tabla_multiplicar(valor_usuario):\n",
        "  for i in range(1,11):\n",
        "    print(f'{valor_usuario} x {i} = {int(valor_usuario)*i}')"
      ],
      "metadata": {
        "colab": {
          "base_uri": "https://localhost:8080/"
        },
        "id": "UcnMM2mcXtj6",
        "outputId": "c0494daf-1a9d-4f91-aad3-1aa95949bb58"
      },
      "execution_count": null,
      "outputs": [
        {
          "name": "stdout",
          "output_type": "stream",
          "text": [
            "Ingrese un numero5\n"
          ]
        }
      ]
    },
    {
      "cell_type": "code",
      "source": [
        "tabla_multiplicar(valor_usuario)"
      ],
      "metadata": {
        "colab": {
          "base_uri": "https://localhost:8080/"
        },
        "id": "w5-617JqXtm6",
        "outputId": "b77662d3-ce4e-4230-bc2d-58cb870a3243"
      },
      "execution_count": null,
      "outputs": [
        {
          "output_type": "stream",
          "name": "stdout",
          "text": [
            "5 x 1 = 5\n",
            "5 x 2 = 10\n",
            "5 x 3 = 15\n",
            "5 x 4 = 20\n",
            "5 x 5 = 25\n",
            "5 x 6 = 30\n",
            "5 x 7 = 35\n",
            "5 x 8 = 40\n",
            "5 x 9 = 45\n",
            "5 x 10 = 50\n"
          ]
        }
      ]
    },
    {
      "cell_type": "code",
      "source": [
        "calcular_multiplos = [97, 80, 94, 88, 80, 1, 16, 53, 62, 32, 24, 99]\n",
        "def multiplos_de_3(calcular_multiplos):\n",
        "  for i in range(len(calcular_multiplos)):\n",
        "    if calcular_multiplos[i] % 3 == 0:\n",
        "      print(calcular_multiplos[i])"
      ],
      "metadata": {
        "id": "0AlIdrwQXtpi"
      },
      "execution_count": null,
      "outputs": []
    },
    {
      "cell_type": "code",
      "source": [
        "multiplos_de_3(calcular_multiplos)"
      ],
      "metadata": {
        "colab": {
          "base_uri": "https://localhost:8080/"
        },
        "id": "C6LcIF1TYtz_",
        "outputId": "a7e0301b-3618-49f7-fe83-f6d61808dd0d"
      },
      "execution_count": null,
      "outputs": [
        {
          "output_type": "stream",
          "name": "stdout",
          "text": [
            "24\n",
            "99\n"
          ]
        }
      ]
    },
    {
      "cell_type": "code",
      "source": [
        "lista_numeros = [1,3,4,5,6,7,8,9,10]\n",
        "cuadrados = map(lambda x: x**2,lista_numeros)\n",
        "\n",
        "resultado = list(cuadrados)\n",
        "print(resultado)"
      ],
      "metadata": {
        "colab": {
          "base_uri": "https://localhost:8080/"
        },
        "id": "IGnCzcLwYt2f",
        "outputId": "50bd6b88-2819-4dbc-d828-39942cbb4ec5"
      },
      "execution_count": null,
      "outputs": [
        {
          "output_type": "stream",
          "name": "stdout",
          "text": [
            "[1, 9, 16, 25, 36, 49, 64, 81, 100]\n"
          ]
        }
      ]
    },
    {
      "cell_type": "code",
      "source": [
        "cuenta  = 1\n",
        "lista_notas = []\n",
        "while cuenta <= 5:\n",
        "  nota = int(input('Ingrese una nota'))\n",
        "  lista_notas.append(nota)\n",
        "  cuenta += 1\n",
        "print(lista_notas)"
      ],
      "metadata": {
        "colab": {
          "base_uri": "https://localhost:8080/"
        },
        "id": "bHEvqfz7Yt42",
        "outputId": "97fc6097-b74f-4708-e897-dcef85a1a7ed"
      },
      "execution_count": null,
      "outputs": [
        {
          "output_type": "stream",
          "name": "stdout",
          "text": [
            "Ingrese una nota12\n",
            "Ingrese una nota15\n",
            "Ingrese una nota16\n",
            "Ingrese una nota18\n",
            "Ingrese una nota20\n",
            "[12, 15, 16, 18, 20]\n"
          ]
        }
      ]
    },
    {
      "cell_type": "code",
      "source": [
        "def detalle_notas(lista_notas_participante):\n",
        "  calculo_1 = sum(lista_notas_participante) / len(lista_notas_participante)\n",
        "  calculo_2 = max(lista_notas_participante)\n",
        "  calculo_3 = min(lista_notas_participante)\n",
        "  return f'El promedio de las notas es:{calculo_1}, la nota mamxima es:{calculo_2} y la nota minima es:{calculo_3}'\n",
        "\n",
        "resultados_notas = detalle_notas(lista_notas)\n",
        "print(resultados_notas)"
      ],
      "metadata": {
        "colab": {
          "base_uri": "https://localhost:8080/"
        },
        "id": "n6okbpeoeMD2",
        "outputId": "81cee9c4-8997-422b-9546-00e8f12a47a2"
      },
      "execution_count": null,
      "outputs": [
        {
          "output_type": "stream",
          "name": "stdout",
          "text": [
            "El promedio de las notas es:16.2, la nota mamxima es:20 y la nota minima es:12\n"
          ]
        }
      ]
    },
    {
      "cell_type": "code",
      "source": [
        "notas_alumnos = [14,16,20,12]"
      ],
      "metadata": {
        "id": "ViaRbUfHe4Mp"
      },
      "execution_count": null,
      "outputs": []
    },
    {
      "cell_type": "code",
      "source": [
        "def rendimiento_estudiante(lista_notas_estudiantes):\n",
        "  nota_maxima = max(lista_notas_estudiantes)\n",
        "  nota_minima = min(lista_notas_estudiantes)\n",
        "  media = sum(lista_notas_estudiantes) / len(lista_notas_estudiantes)\n",
        "  if media >= 13:\n",
        "    situacion =  'Aprobado'\n",
        "  elif media >= 14:\n",
        "    situacion = 'Desaprobado'\n",
        "  return f'El estudiante obtuvo una media de {media}, con la mayor nota de {nota_maxima} puntos y la menor nota de {nota_minima} puntos y fue {situacion}.'"
      ],
      "metadata": {
        "id": "CxI1aDAtfo9z"
      },
      "execution_count": null,
      "outputs": []
    },
    {
      "cell_type": "code",
      "source": [
        "resultados_rendimiento = rendimiento_estudiante(notas_alumnos)\n",
        "print(resultados_rendimiento)"
      ],
      "metadata": {
        "colab": {
          "base_uri": "https://localhost:8080/"
        },
        "id": "EZoOFe3hfpAE",
        "outputId": "72182e6f-9d31-49c4-8a5c-c2b826d1e993"
      },
      "execution_count": null,
      "outputs": [
        {
          "output_type": "stream",
          "name": "stdout",
          "text": [
            "El estudiante obtuvo una media de 15.5, con la mayor nota de 20 puntos y la menor nota de 12 puntos y fue Aprobado.\n"
          ]
        }
      ]
    },
    {
      "cell_type": "code",
      "source": [
        "nombres = [\"juan\", \"MaRia\", \"JOSÉ\"]\n",
        "apellidos = [\"SILVA\", \"sosa\", \"Tavares\"]\n",
        "\n",
        "# Normalizar nombres y apellidos y crear una nueva lista con los nombres completos\n",
        "# Puedes apoyarte en la función map()\n"
      ],
      "metadata": {
        "id": "iNIhivMJg_E-"
      },
      "execution_count": null,
      "outputs": []
    },
    {
      "cell_type": "code",
      "source": [
        "nombres_apellidos = map(lambda x, y: x.capitalize() + ' ' + y.capitalize(), nombres, apellidos)\n"
      ],
      "metadata": {
        "id": "DmhtVdnIhjH3"
      },
      "execution_count": null,
      "outputs": []
    },
    {
      "cell_type": "code",
      "source": [
        "nombres_apellidos = list(nombres_apellidos)\n",
        "print(nombres_apellidos)"
      ],
      "metadata": {
        "colab": {
          "base_uri": "https://localhost:8080/"
        },
        "id": "yKmeKFcHhwmn",
        "outputId": "0cf5c946-ce56-40fb-ff11-a2dc1da9704f"
      },
      "execution_count": null,
      "outputs": [
        {
          "output_type": "stream",
          "name": "stdout",
          "text": [
            "['Juan Silva', 'Maria Sosa', 'José Tavares']\n"
          ]
        }
      ]
    },
    {
      "cell_type": "code",
      "source": [
        "goles_marcados = [2, 1, 3, 1, 0]\n",
        "goles_recibidos = [1, 2, 2, 1, 3]\n",
        "# Texto probablemente mostrado:\n",
        "# La puntuación del equipo fue `puntos` y su rendimiento fue `desempeno`%\"\n",
        "\n",
        "#situacion = lambda x: 'Aprobado(a)' if x >= 7 else 'Reprobado(a)'\n",
        "#situacion(promedio)\n",
        "\n",
        "def calcula_puntos(lista_goles_1, lista_goles_2):\n",
        "  puntos_totales = 0\n",
        "  for i in range(len(lista_goles_1)):\n",
        "    if lista_goles_1[i] > lista_goles_2[i]:\n",
        "      puntos_totales += 3\n",
        "    elif lista_goles_1[i] == lista_goles_2[i]:\n",
        "      puntos_totales += 1\n",
        "    return puntos_totales"
      ],
      "metadata": {
        "id": "MoaqozifhzHv"
      },
      "execution_count": null,
      "outputs": []
    },
    {
      "cell_type": "code",
      "source": [
        "rendimiento = (puntos_totales / (len(goles_marcados) * 3)) * 100"
      ],
      "metadata": {
        "id": "f0i02OZenSFc"
      },
      "execution_count": null,
      "outputs": []
    },
    {
      "cell_type": "code",
      "source": [
        "resultado = calcula_puntos(goles_marcados, goles_recibidos)\n",
        "print(resultado)"
      ],
      "metadata": {
        "colab": {
          "base_uri": "https://localhost:8080/"
        },
        "id": "2LSrvxnpnUN7",
        "outputId": "5269fbbc-db7d-48b9-fd92-156acc460f1c"
      },
      "execution_count": null,
      "outputs": [
        {
          "output_type": "stream",
          "name": "stdout",
          "text": [
            "3\n"
          ]
        }
      ]
    },
    {
      "cell_type": "code",
      "source": [
        "\n",
        "def xd(a,b):\n",
        "  iterador = 0\n",
        "  resultado = 0\n",
        "  while iterador < len(a):\n",
        "    if a[iterador] > b[iterador]:\n",
        "      resultado += 3\n",
        "    elif a[iterador] == b[iterador]:\n",
        "      resultado += 1\n",
        "    iterador += 1\n",
        "  rendimiento = (resultado / (len(a)*3))*100\n",
        "  return f'La puntuación del equipo fue {resultado} y su rendimiento fue {round(rendimiento,2)}`%'"
      ],
      "metadata": {
        "id": "rKYKUrJ-n4cc"
      },
      "execution_count": null,
      "outputs": []
    },
    {
      "cell_type": "code",
      "source": [
        "xd(goles_marcados,goles_recibidos)"
      ],
      "metadata": {
        "colab": {
          "base_uri": "https://localhost:8080/",
          "height": 36
        },
        "id": "UdrCo8b3q_Ox",
        "outputId": "55fa004a-d0e8-426b-fbfa-553bd07daf7a"
      },
      "execution_count": null,
      "outputs": [
        {
          "output_type": "execute_result",
          "data": {
            "text/plain": [
              "'La puntuación del equipo fue 7 y su rendimiento fue 46.67`%'"
            ],
            "application/vnd.google.colaboratory.intrinsic+json": {
              "type": "string"
            }
          },
          "metadata": {},
          "execution_count": 52
        }
      ]
    },
    {
      "cell_type": "code",
      "source": [
        "#Costo diario de hotel 150\n",
        "#gasto de gasolina 14mk/l\n",
        "#costo gasolina 5 reales/litro\n",
        "#alimentación a realizar en cada una de ellas por día serían\n",
        "kilometro_por_litro = 14\n",
        "costo_diario_hotel = 150\n",
        "precio_gasolina_litro = 5\n",
        "ciudades = ['Salvador','Fortaleza','Natal','Aracaju']\n",
        "alimentacion = [200, 400, 250, 300]\n",
        "kilometros = [850, 800, 300, 550]\n",
        "\n",
        "\n"
      ],
      "metadata": {
        "id": "WoOhdsbNrEXR"
      },
      "execution_count": null,
      "outputs": []
    },
    {
      "cell_type": "code",
      "source": [
        "#Días de estadia en hotel\n",
        "dias_hotel = int(input('Ingrese los dias de hospedaje:'))\n"
      ],
      "metadata": {
        "colab": {
          "base_uri": "https://localhost:8080/"
        },
        "id": "AEs36BmaCjs8",
        "outputId": "54a2a7ca-0fdf-4771-88f2-8388d2851a5f"
      },
      "execution_count": null,
      "outputs": [
        {
          "name": "stdout",
          "output_type": "stream",
          "text": [
            "Ingrese los dias de hospedaje:3\n"
          ]
        }
      ]
    },
    {
      "cell_type": "code",
      "source": [
        "#Ciudad de destino\n",
        "ciudad = input('Ingrese la ciudad a consultar')"
      ],
      "metadata": {
        "colab": {
          "base_uri": "https://localhost:8080/"
        },
        "id": "Im0l78sVCm9-",
        "outputId": "352ebaaf-bba4-4440-f25c-be9cf468c87d"
      },
      "execution_count": null,
      "outputs": [
        {
          "name": "stdout",
          "output_type": "stream",
          "text": [
            "Ingrese la ciudad a consultarSalvador\n"
          ]
        }
      ]
    },
    {
      "cell_type": "code",
      "source": [
        "#Gasto de Hotel por los días de estadia\n",
        "gasto_hotel = lambda x: x * 150\n",
        "precio_hotel_total = gasto_hotel(dias_hotel)"
      ],
      "metadata": {
        "id": "u_pOSZtwChLF"
      },
      "execution_count": null,
      "outputs": []
    },
    {
      "cell_type": "code",
      "source": [
        "#Función para convertir listas en diccionario\n",
        "def convertir_listas_en_dict(lista_1, lista2):\n",
        "  #zip une las listas y los convierte en tuplas\n",
        "  pares = zip(lista_1, lista2)\n",
        "  #dict convierte pares de tuplas en diccionario\n",
        "  lista_convertida = dict(list(pares))\n",
        "  return lista_convertida"
      ],
      "metadata": {
        "id": "xbKmARzA4hVd"
      },
      "execution_count": null,
      "outputs": []
    },
    {
      "cell_type": "code",
      "source": [
        "ciudades_kilometros = convertir_listas_en_dict(ciudades,kilometros)\n",
        "\n",
        "#Función para calcular el gasto de combustible de ida y vuelta\n",
        "def gasto_gasolina_ida_y_vuelta(costo_combustile, ciudad):\n",
        "  distancia_ida_y_vuelta = costo_combustile * (ciudades_kilometros[ciudad] / kilometro_por_litro)\n",
        "  return distancia_ida_y_vuelta * 2"
      ],
      "metadata": {
        "id": "35-m3d768KYh"
      },
      "execution_count": null,
      "outputs": []
    },
    {
      "cell_type": "code",
      "source": [
        "#Resultado\n",
        "gasto_combustible_ida_vuelta = gasto_gasolina_ida_y_vuelta(precio_gasolina_litro, ciudad)\n",
        "print(gasto_combustible_ida_vuelta)"
      ],
      "metadata": {
        "colab": {
          "base_uri": "https://localhost:8080/"
        },
        "id": "Bb8tXWqw71KY",
        "outputId": "0b5b7bbf-f0b1-4f45-c2b6-bece3693cfb9"
      },
      "execution_count": null,
      "outputs": [
        {
          "output_type": "stream",
          "name": "stdout",
          "text": [
            "607.1428571428571\n"
          ]
        }
      ]
    },
    {
      "cell_type": "code",
      "source": [
        "ciudad_alimentacion = convertir_listas_en_dict(ciudades,alimentacion)"
      ],
      "metadata": {
        "id": "ZeI27kk58I2O"
      },
      "execution_count": null,
      "outputs": []
    },
    {
      "cell_type": "code",
      "source": [
        "#Función para calcular el costo total del paseo(alimentación)\n",
        "def gasto_paseo(ciudad_,dias):\n",
        "  costo_paseo = ciudad_alimentacion[ciudad_] * dias\n",
        "  return costo_paseo"
      ],
      "metadata": {
        "id": "EfFBG6Vw-mtr"
      },
      "execution_count": null,
      "outputs": []
    },
    {
      "cell_type": "code",
      "source": [
        "gasto_por_paseo = gasto_paseo(ciudad,dias_hotel)"
      ],
      "metadata": {
        "id": "HzEp2YkaB5Ay"
      },
      "execution_count": null,
      "outputs": []
    },
    {
      "cell_type": "code",
      "source": [
        "#Impresión final de resultados\n",
        "mensaje = f'Con base en los gastos definidos, un viaje de {dias_hotel} días a {ciudad} desde recife costaría {round(precio_hotel_total + gasto_combustible_ida_vuelta + gasto_por_paseo,2)} reales.'\n",
        "print(mensaje)"
      ],
      "metadata": {
        "colab": {
          "base_uri": "https://localhost:8080/"
        },
        "id": "zbloRt7vB65Z",
        "outputId": "ce5796c9-9d18-4542-bf42-a28f0fbd16fb"
      },
      "execution_count": null,
      "outputs": [
        {
          "output_type": "stream",
          "name": "stdout",
          "text": [
            "Con base en los gastos definidos, un viaje de 3 días a Salvador desde recife costaría 1657.14 reales.\n"
          ]
        }
      ]
    },
    {
      "cell_type": "markdown",
      "source": [
        "***Tuplas***\n",
        "\n",
        "\n",
        "*   Estructuras de datos inmutables\n",
        "*   Agrupar datos que no deben modificarse\n",
        "\n",
        "\n",
        "*  Para crear una tupla, simplemente separamos sus elementos por comas y los envolvemos entre paréntesis.\n",
        "\n",
        "\n",
        "\n"
      ],
      "metadata": {
        "id": "cHCkNAPvFYd3"
      }
    },
    {
      "cell_type": "code",
      "source": [
        "#Tupla\n",
        "registro = (\"Julia\", 23, \"CDMX\", \"EM\", \"Python para DS 1\")"
      ],
      "metadata": {
        "id": "tV8s7XCDHHa1"
      },
      "execution_count": 1,
      "outputs": []
    },
    {
      "cell_type": "code",
      "source": [
        "#Acceder a los valores de una Tupla\n",
        "print(registro[0])  # imprime Julia\n",
        "print(registro[-1])  # imprime Python para DS 1"
      ],
      "metadata": {
        "colab": {
          "base_uri": "https://localhost:8080/"
        },
        "id": "CyyxWlAKFX2w",
        "outputId": "1cd0b013-0057-41b3-bf41-e83cdc984d43"
      },
      "execution_count": 2,
      "outputs": [
        {
          "output_type": "stream",
          "name": "stdout",
          "text": [
            "Julia\n",
            "Python para DS 1\n"
          ]
        }
      ]
    },
    {
      "cell_type": "code",
      "source": [
        "#Al ser un iterable podemos desempaquetar los datos de muna tupla pasando cada valor a una variable\n",
        "nombre, edad, ciudad, estado, curso = registro"
      ],
      "metadata": {
        "id": "ybyDwwIqFX5Z"
      },
      "execution_count": 8,
      "outputs": []
    },
    {
      "cell_type": "code",
      "source": [
        "print(f'La estudiante {nombre} tiene {edad} años y vive en {ciudad}-{estado}. Ella está matriculada en el curso de {curso}.')"
      ],
      "metadata": {
        "colab": {
          "base_uri": "https://localhost:8080/"
        },
        "id": "OGYY5bAHFX7-",
        "outputId": "7630f4ac-d293-411f-faac-9d0fe1041b27"
      },
      "execution_count": 9,
      "outputs": [
        {
          "output_type": "stream",
          "name": "stdout",
          "text": [
            "La estudiante Julia tiene 23 años y vive en CDMX-EM. Ella está matriculada en el curso de Python para DS 1.\n"
          ]
        }
      ]
    },
    {
      "cell_type": "code",
      "source": [
        "#usando Zip\n",
        "#toma uno o más iterables (lista, cadena, diccionario, etc.) y los devuelve como un iterador de tuplas donde cada elemento de los iterables está emparejado.\n",
        "objeto_zip = zip([1, 2, 3])\n",
        "objeto_zip"
      ],
      "metadata": {
        "colab": {
          "base_uri": "https://localhost:8080/"
        },
        "id": "bUlN1HkmFX-v",
        "outputId": "70d2b5a5-02c4-47bf-a6ef-c86f75828def"
      },
      "execution_count": 10,
      "outputs": [
        {
          "output_type": "execute_result",
          "data": {
            "text/plain": [
              "<zip at 0x7e11ce527100>"
            ]
          },
          "metadata": {},
          "execution_count": 10
        }
      ]
    },
    {
      "cell_type": "code",
      "source": [
        "list(objeto_zip)"
      ],
      "metadata": {
        "colab": {
          "base_uri": "https://localhost:8080/"
        },
        "id": "-dhokSG4dgwV",
        "outputId": "a1c651f9-e7f3-447f-d25c-ef0a4b489773"
      },
      "execution_count": 12,
      "outputs": [
        {
          "output_type": "execute_result",
          "data": {
            "text/plain": [
              "[(1,), (2,), (3,)]"
            ]
          },
          "metadata": {},
          "execution_count": 12
        }
      ]
    },
    {
      "cell_type": "code",
      "source": [
        "id = [1, 2, 3, 4, 5]\n",
        "region = [\"Norte\", \"Oriente\", \"Sudeste\", \"Centro\", \"Sur\"]\n",
        "\n",
        "mapa = list(zip(id, region))\n",
        "mapa"
      ],
      "metadata": {
        "colab": {
          "base_uri": "https://localhost:8080/"
        },
        "id": "rj2Eg_McdiJV",
        "outputId": "e232f4e6-22ac-4c98-8a4e-4c1da1affbf0"
      },
      "execution_count": 13,
      "outputs": [
        {
          "output_type": "execute_result",
          "data": {
            "text/plain": [
              "[(1, 'Norte'), (2, 'Oriente'), (3, 'Sudeste'), (4, 'Centro'), (5, 'Sur')]"
            ]
          },
          "metadata": {},
          "execution_count": 13
        }
      ]
    },
    {
      "cell_type": "code",
      "source": [
        "#si las listas de entrada tienen longitudes diferentes, la salida contendrá el mismo número de tuplas que la lista de menor longitud y los elementos restantes de los otros iterables se ignorarán.\n",
        "codigos = [\"1000\", \"1001\", \"1002\", \"1003\", \"1004\", \"1005\"]\n",
        "frutas = [\"manzana\", \"uva\", \"banana\", \"naranja\"]\n",
        "\n",
        "mercancia = list(zip(codigos, frutas))\n",
        "mercancia"
      ],
      "metadata": {
        "colab": {
          "base_uri": "https://localhost:8080/"
        },
        "id": "Ige8QpWndxdN",
        "outputId": "2f4ec0e2-2874-4446-ad76-e8da8cee7ed1"
      },
      "execution_count": 14,
      "outputs": [
        {
          "output_type": "execute_result",
          "data": {
            "text/plain": [
              "[('1000', 'manzana'), ('1001', 'uva'), ('1002', 'banana'), ('1003', 'naranja')]"
            ]
          },
          "metadata": {},
          "execution_count": 14
        }
      ]
    },
    {
      "cell_type": "code",
      "source": [
        "#Para realizar el proceso contrario, de transformar una tupla iterable en listas,\n",
        "#basta con colocar el operador asterisco (*) al lado izquierdo del nombre de la tupla iterable que se desea extraer los datos, transmitiendo cada tupla a una variable.\n",
        "tupla_iterable = [('J392', 'Juan'), ('M890', 'Maria'), ('J681', 'José'), ('C325', 'Claudia'), ('A49', 'Ana')]\n",
        "ids, nombres = zip(*tupla_iterable)\n",
        "\n",
        "ids = list(ids)\n",
        "nombres = list(nombres)\n",
        "\n",
        "print(\"IDs = \", ids)\n",
        "print(\"Nombres = \", nombres)"
      ],
      "metadata": {
        "colab": {
          "base_uri": "https://localhost:8080/"
        },
        "id": "6G-R2_c2eGsd",
        "outputId": "acfbc5cc-f969-48d4-b014-fdb1a74382ac"
      },
      "execution_count": 15,
      "outputs": [
        {
          "output_type": "stream",
          "name": "stdout",
          "text": [
            "IDs =  ['J392', 'M890', 'J681', 'C325', 'A49']\n",
            "Nombres =  ['Juan', 'Maria', 'José', 'Claudia', 'Ana']\n"
          ]
        }
      ]
    },
    {
      "cell_type": "code",
      "source": [
        "#Crea un código para imprimir la suma de los elementos de cada una de las listas contenidas en la siguiente lista:\n",
        "#[expresion for item in lista]"
      ],
      "metadata": {
        "id": "-42QPuN1eQhl"
      },
      "execution_count": null,
      "outputs": []
    },
    {
      "cell_type": "code",
      "source": [
        "lista_de_listas = [[4, 6, 5, 9], [1, 0, 7, 2], [3, 4, 1, 8]]\n",
        "def suma_lista(lista_de_listas):\n",
        "  suma = [sum(x) for x in lista_de_listas]\n",
        "  return suma"
      ],
      "metadata": {
        "id": "4ddktJVPrmat"
      },
      "execution_count": 16,
      "outputs": []
    },
    {
      "cell_type": "code",
      "source": [
        "sumas = suma_lista(lista_de_listas)\n",
        "sumas"
      ],
      "metadata": {
        "colab": {
          "base_uri": "https://localhost:8080/"
        },
        "id": "q_HztVxwrmdQ",
        "outputId": "cf0ad2a6-403d-4ab4-daf3-d7f88e439ce8"
      },
      "execution_count": 23,
      "outputs": [
        {
          "output_type": "execute_result",
          "data": {
            "text/plain": [
              "[24, 10, 16]"
            ]
          },
          "metadata": {},
          "execution_count": 23
        }
      ]
    },
    {
      "cell_type": "code",
      "source": [
        "cuadrados_de_suma = [x**2 for x in sumas]\n",
        "cuadrados_de_suma"
      ],
      "metadata": {
        "colab": {
          "base_uri": "https://localhost:8080/"
        },
        "id": "B_D-_uWirmfj",
        "outputId": "4629545f-d0a1-440f-8a09-295ebfcdb9f0"
      },
      "execution_count": 32,
      "outputs": [
        {
          "output_type": "execute_result",
          "data": {
            "text/plain": [
              "[576, 100, 256]"
            ]
          },
          "metadata": {},
          "execution_count": 32
        }
      ]
    },
    {
      "cell_type": "code",
      "source": [
        "cuadrados_de_suma"
      ],
      "metadata": {
        "colab": {
          "base_uri": "https://localhost:8080/"
        },
        "id": "SdjrEi9Xrmht",
        "outputId": "334ffdfb-2d75-4a9b-d9bf-c8091edd30d2"
      },
      "execution_count": 31,
      "outputs": [
        {
          "output_type": "execute_result",
          "data": {
            "text/plain": [
              "[576, 100, 256]"
            ]
          },
          "metadata": {},
          "execution_count": 31
        }
      ]
    },
    {
      "cell_type": "code",
      "source": [
        "# Crea un código para generar una lista que almacene el tercer elemento de cada tupla contenida en la siguiente lista de tuplas:\n"
      ],
      "metadata": {
        "id": "FOhDr6C-th_j"
      },
      "execution_count": null,
      "outputs": []
    },
    {
      "cell_type": "code",
      "source": [
        "lista_de_tuplas = [('Pedro', 1.74, 81), ('Júlia', 1.65, 67), ('Otávio', 1.81, 83)]"
      ],
      "metadata": {
        "id": "G44Xdk0EtiCT"
      },
      "execution_count": 33,
      "outputs": []
    },
    {
      "cell_type": "code",
      "source": [
        "tercer_elemento = [x[2] for x in lista_de_tuplas]\n",
        "tercer_elemento"
      ],
      "metadata": {
        "colab": {
          "base_uri": "https://localhost:8080/"
        },
        "id": "41ALNUMstiFU",
        "outputId": "63337b54-ef83-45d9-b82c-9e72979e12b5"
      },
      "execution_count": 34,
      "outputs": [
        {
          "output_type": "execute_result",
          "data": {
            "text/plain": [
              "[81, 67, 83]"
            ]
          },
          "metadata": {},
          "execution_count": 34
        }
      ]
    },
    {
      "cell_type": "code",
      "source": [
        "lista = ['Pedro', 'Júlia', 'Otávio', 'Eduardo']"
      ],
      "metadata": {
        "id": "Jfmzp_RCtIOR"
      },
      "execution_count": 45,
      "outputs": []
    },
    {
      "cell_type": "code",
      "source": [
        "resultado = [(i, nombre) for i, nombre in enumerate(lista)]\n",
        "print(resultado)\n"
      ],
      "metadata": {
        "colab": {
          "base_uri": "https://localhost:8080/"
        },
        "id": "CWnZjX4Evvxt",
        "outputId": "0985c186-ef2f-4009-998c-d5285080f209"
      },
      "execution_count": 49,
      "outputs": [
        {
          "output_type": "stream",
          "name": "stdout",
          "text": [
            "[(0, 'Pedro'), (1, 'Júlia'), (2, 'Otávio'), (3, 'Eduardo')]\n"
          ]
        }
      ]
    },
    {
      "cell_type": "code",
      "source": [
        "alquiler = [('Apartamento', 1700), ('Apartamento', 1400), ('Casa', 2150), ('Apartamento', 1900), ('Casa', 1100)]"
      ],
      "metadata": {
        "id": "Lw6OIwP3vv0k"
      },
      "execution_count": 50,
      "outputs": []
    },
    {
      "cell_type": "code",
      "source": [
        "valor_numerico = [dato[1] for dato in alquiler if dato[0] == 'Apartamento']\n",
        "valor_numerico"
      ],
      "metadata": {
        "colab": {
          "base_uri": "https://localhost:8080/"
        },
        "id": "4Q3CGLGbvv2k",
        "outputId": "86454edc-cd96-4a1e-d936-15773f5d59be"
      },
      "execution_count": 51,
      "outputs": [
        {
          "output_type": "execute_result",
          "data": {
            "text/plain": [
              "[1700, 1400, 1900]"
            ]
          },
          "metadata": {},
          "execution_count": 51
        }
      ]
    },
    {
      "cell_type": "code",
      "source": [
        "#{llave: valor for item in lista}\n",
        "meses = ['Jan', 'Fev', 'Mar', 'Abr', 'Mai', 'Jun', 'Jul', 'Ago', 'Set', 'Out', 'Nov', 'Dez']\n",
        "gasto = [860, 490, 1010, 780, 900, 630, 590, 770, 620, 560, 840, 360]\n",
        "lista_mes_gasto = [meses, gasto]\n",
        "lista_mes_gasto"
      ],
      "metadata": {
        "colab": {
          "base_uri": "https://localhost:8080/"
        },
        "id": "5uM-gJ6Bzj0T",
        "outputId": "6f046f9a-d8e1-49cf-8774-8f0dde000e64"
      },
      "execution_count": 57,
      "outputs": [
        {
          "output_type": "execute_result",
          "data": {
            "text/plain": [
              "[['Jan',\n",
              "  'Fev',\n",
              "  'Mar',\n",
              "  'Abr',\n",
              "  'Mai',\n",
              "  'Jun',\n",
              "  'Jul',\n",
              "  'Ago',\n",
              "  'Set',\n",
              "  'Out',\n",
              "  'Nov',\n",
              "  'Dez'],\n",
              " [860, 490, 1010, 780, 900, 630, 590, 770, 620, 560, 840, 360]]"
            ]
          },
          "metadata": {},
          "execution_count": 57
        }
      ]
    },
    {
      "cell_type": "code",
      "source": [
        "llaves = ['Meses', 'Gastos']\n",
        "meses_gasto = {llaves[i]: lista_mes_gasto[i] for i in range(len(llaves))}\n",
        "\n",
        "meses_gasto"
      ],
      "metadata": {
        "colab": {
          "base_uri": "https://localhost:8080/"
        },
        "id": "MtYaLI4ez7mz",
        "outputId": "d61ab35e-042b-4148-a070-6303c2cb6b6c"
      },
      "execution_count": 60,
      "outputs": [
        {
          "output_type": "execute_result",
          "data": {
            "text/plain": [
              "{'Meses': ['Jan',\n",
              "  'Fev',\n",
              "  'Mar',\n",
              "  'Abr',\n",
              "  'Mai',\n",
              "  'Jun',\n",
              "  'Jul',\n",
              "  'Ago',\n",
              "  'Set',\n",
              "  'Out',\n",
              "  'Nov',\n",
              "  'Dez'],\n",
              " 'Gastos': [860, 490, 1010, 780, 900, 630, 590, 770, 620, 560, 840, 360]}"
            ]
          },
          "metadata": {},
          "execution_count": 60
        }
      ]
    },
    {
      "cell_type": "code",
      "source": [
        "ventas = [('2023', 4093), ('2021', 4320), ('2021', 5959), ('2022', 8883), ('2023', 9859), ('2022', 5141), ('2022', 7688), ('2022', 9544), ('2023', 4794), ('2021', 7178), ('2022', 3030), ('2021', 7471), ('2022', 4226), ('2022', 8190), ('2021', 9680), ('2022', 5616)]"
      ],
      "metadata": {
        "id": "YqsFa-Ey83gk"
      },
      "execution_count": 61,
      "outputs": []
    },
    {
      "cell_type": "code",
      "source": [
        "datos_ventas = [dato for dato in ventas if dato[0] == '2022' and dato[1] > 6000]\n",
        "datos_ventas"
      ],
      "metadata": {
        "colab": {
          "base_uri": "https://localhost:8080/"
        },
        "id": "BSizmx8zRSck",
        "outputId": "c088df0e-2fe2-43c4-9c31-81066b1bbf5f"
      },
      "execution_count": 66,
      "outputs": [
        {
          "output_type": "execute_result",
          "data": {
            "text/plain": [
              "[('2022', 8883), ('2022', 7688), ('2022', 9544), ('2022', 8190)]"
            ]
          },
          "metadata": {},
          "execution_count": 66
        }
      ]
    },
    {
      "cell_type": "code",
      "source": [
        "glicemia = [129, 82, 60, 97, 101, 65, 62, 167, 87, 53, 58, 92, 66, 120, 109, 62, 86, 96, 103, 88, 155, 52, 89, 73]"
      ],
      "metadata": {
        "id": "c4lqgSNpR_fM"
      },
      "execution_count": 71,
      "outputs": []
    },
    {
      "cell_type": "code",
      "source": [
        "resultado = [\n",
        "    ('Hipoglicemia', valor) if valor < 70 else\n",
        "    ('Normal', valor) if valor <= 99 else\n",
        "    ('Alterada', valor) if valor <= 125 else\n",
        "    ('Diabetes', valor)\n",
        "    for valor in glicemia\n",
        "]\n",
        "\n",
        "print(resultado)\n"
      ],
      "metadata": {
        "colab": {
          "base_uri": "https://localhost:8080/"
        },
        "id": "7YQi0Fv2TkXF",
        "outputId": "5174e9a4-1fa4-4866-b3ff-65f44e38ccb5"
      },
      "execution_count": 73,
      "outputs": [
        {
          "output_type": "stream",
          "name": "stdout",
          "text": [
            "[('Diabetes', 129), ('Normal', 82), ('Hipoglicemia', 60), ('Normal', 97), ('Alterada', 101), ('Hipoglicemia', 65), ('Hipoglicemia', 62), ('Diabetes', 167), ('Normal', 87), ('Hipoglicemia', 53), ('Hipoglicemia', 58), ('Normal', 92), ('Hipoglicemia', 66), ('Alterada', 120), ('Alterada', 109), ('Hipoglicemia', 62), ('Normal', 86), ('Normal', 96), ('Alterada', 103), ('Normal', 88), ('Diabetes', 155), ('Hipoglicemia', 52), ('Normal', 89), ('Normal', 73)]\n"
          ]
        }
      ]
    },
    {
      "cell_type": "code",
      "source": [
        "id = [0, 1, 2, 3, 4, 5, 6, 7, 8, 9]\n",
        "cantidad = [15, 12, 1, 15, 2, 11, 2, 12, 2, 4]\n",
        "precio = [93.0, 102.0, 18.0, 41.0, 122.0, 14.0, 71.0, 48.0, 14.0, 144.0]"
      ],
      "metadata": {
        "id": "jdhseBMpTxrl"
      },
      "execution_count": 74,
      "outputs": []
    },
    {
      "cell_type": "code",
      "source": [
        "precio_total = [x * a for x,a in zip(precio,cantidad)]\n",
        "precio_total"
      ],
      "metadata": {
        "colab": {
          "base_uri": "https://localhost:8080/"
        },
        "id": "hLw0HPPfXOdW",
        "outputId": "c031e4c2-7c57-49bb-9af2-f1b8a0b0eaa9"
      },
      "execution_count": 75,
      "outputs": [
        {
          "output_type": "execute_result",
          "data": {
            "text/plain": [
              "[1395.0, 1224.0, 18.0, 615.0, 244.0, 154.0, 142.0, 576.0, 28.0, 576.0]"
            ]
          },
          "metadata": {},
          "execution_count": 75
        }
      ]
    },
    {
      "cell_type": "code",
      "source": [
        "lista_ventas = [id, cantidad, precio, precio_total]\n",
        "lista_ventas"
      ],
      "metadata": {
        "colab": {
          "base_uri": "https://localhost:8080/"
        },
        "id": "mMlAMqjiXZFW",
        "outputId": "375aafcc-d7e8-4d72-b139-d003736bf8e4"
      },
      "execution_count": 76,
      "outputs": [
        {
          "output_type": "execute_result",
          "data": {
            "text/plain": [
              "[[0, 1, 2, 3, 4, 5, 6, 7, 8, 9],\n",
              " [15, 12, 1, 15, 2, 11, 2, 12, 2, 4],\n",
              " [93.0, 102.0, 18.0, 41.0, 122.0, 14.0, 71.0, 48.0, 14.0, 144.0],\n",
              " [1395.0, 1224.0, 18.0, 615.0, 244.0, 154.0, 142.0, 576.0, 28.0, 576.0]]"
            ]
          },
          "metadata": {},
          "execution_count": 76
        }
      ]
    },
    {
      "cell_type": "code",
      "source": [
        "columnas_ventas =['ID', 'Cantidad', 'Precio', 'Precio Total']"
      ],
      "metadata": {
        "id": "lcoptH1WXpvO"
      },
      "execution_count": 82,
      "outputs": []
    },
    {
      "cell_type": "code",
      "source": [
        "tabla_ventas = list(zip( id, cantidad, precio, precio_total))\n",
        "tabla_ventas = [columnas_ventas, tabla_ventas]\n",
        "tabla_ventas"
      ],
      "metadata": {
        "colab": {
          "base_uri": "https://localhost:8080/"
        },
        "id": "YYYCQtDFX8hu",
        "outputId": "94987f41-cac7-4e6a-d8ee-772064ce8733"
      },
      "execution_count": 93,
      "outputs": [
        {
          "output_type": "execute_result",
          "data": {
            "text/plain": [
              "[['ID', 'Cantidad', 'Precio', 'Precio Total'],\n",
              " [(0, 15, 93.0, 1395.0),\n",
              "  (1, 12, 102.0, 1224.0),\n",
              "  (2, 1, 18.0, 18.0),\n",
              "  (3, 15, 41.0, 615.0),\n",
              "  (4, 2, 122.0, 244.0),\n",
              "  (5, 11, 14.0, 154.0),\n",
              "  (6, 2, 71.0, 142.0),\n",
              "  (7, 12, 48.0, 576.0),\n",
              "  (8, 2, 14.0, 28.0),\n",
              "  (9, 4, 144.0, 576.0)]]"
            ]
          },
          "metadata": {},
          "execution_count": 93
        }
      ]
    },
    {
      "cell_type": "code",
      "source": [
        "#Tipos de Excepciones\n",
        "#SyntaxError\n",
        "#Ocurre cuando el analizador detecta un error en la descripción del código\n",
        "print(10 / 2"
      ],
      "metadata": {
        "colab": {
          "base_uri": "https://localhost:8080/",
          "height": 106
        },
        "id": "79oQcSihYIwe",
        "outputId": "6f32b5b0-ad81-4928-c30d-eaf138392dfc"
      },
      "execution_count": 94,
      "outputs": [
        {
          "output_type": "error",
          "ename": "SyntaxError",
          "evalue": "incomplete input (ipython-input-94-1595265682.py, line 4)",
          "traceback": [
            "\u001b[0;36m  File \u001b[0;32m\"/tmp/ipython-input-94-1595265682.py\"\u001b[0;36m, line \u001b[0;32m4\u001b[0m\n\u001b[0;31m    print(10 / 2\u001b[0m\n\u001b[0m                ^\u001b[0m\n\u001b[0;31mSyntaxError\u001b[0m\u001b[0;31m:\u001b[0m incomplete input\n"
          ]
        }
      ]
    },
    {
      "cell_type": "code",
      "source": [
        "#NameError\n",
        "#Excepción lanzada cuando intentamos utilizar un nombre de algún elemento que no está presente en nuestro código.\n",
        "raiz = sqrt(100)"
      ],
      "metadata": {
        "colab": {
          "base_uri": "https://localhost:8080/",
          "height": 176
        },
        "id": "BWfXHmHsilIZ",
        "outputId": "78c2ec23-c4dc-40e7-8787-ea5fde18a74f"
      },
      "execution_count": 95,
      "outputs": [
        {
          "output_type": "error",
          "ename": "NameError",
          "evalue": "name 'sqrt' is not defined",
          "traceback": [
            "\u001b[0;31m---------------------------------------------------------------------------\u001b[0m",
            "\u001b[0;31mNameError\u001b[0m                                 Traceback (most recent call last)",
            "\u001b[0;32m/tmp/ipython-input-95-327572428.py\u001b[0m in \u001b[0;36m<cell line: 0>\u001b[0;34m()\u001b[0m\n\u001b[1;32m      1\u001b[0m \u001b[0;31m#NameError\u001b[0m\u001b[0;34m\u001b[0m\u001b[0;34m\u001b[0m\u001b[0m\n\u001b[1;32m      2\u001b[0m \u001b[0;31m#Excepción lanzada cuando intentamos utilizar un nombre de algún elemento que no está presente en nuestro código.\u001b[0m\u001b[0;34m\u001b[0m\u001b[0;34m\u001b[0m\u001b[0m\n\u001b[0;32m----> 3\u001b[0;31m \u001b[0mraiz\u001b[0m \u001b[0;34m=\u001b[0m \u001b[0msqrt\u001b[0m\u001b[0;34m(\u001b[0m\u001b[0;36m100\u001b[0m\u001b[0;34m)\u001b[0m\u001b[0;34m\u001b[0m\u001b[0;34m\u001b[0m\u001b[0m\n\u001b[0m",
            "\u001b[0;31mNameError\u001b[0m: name 'sqrt' is not defined"
          ]
        }
      ]
    },
    {
      "cell_type": "code",
      "source": [
        "#IndexError\n",
        "#Excepción lanzada cuando intentamos indexar alguna estructura de datos como lista, tupla o incluso una cadena más allá de sus límites.\n",
        "lista = [1, 2, 3]\n",
        "lista[4]"
      ],
      "metadata": {
        "colab": {
          "base_uri": "https://localhost:8080/",
          "height": 176
        },
        "id": "BjSQ6q9qis55",
        "outputId": "48f36bf0-0a45-46ad-d302-bbe5f2d8c60e"
      },
      "execution_count": 96,
      "outputs": [
        {
          "output_type": "error",
          "ename": "IndexError",
          "evalue": "list index out of range",
          "traceback": [
            "\u001b[0;31m---------------------------------------------------------------------------\u001b[0m",
            "\u001b[0;31mIndexError\u001b[0m                                Traceback (most recent call last)",
            "\u001b[0;32m/tmp/ipython-input-96-3172127043.py\u001b[0m in \u001b[0;36m<cell line: 0>\u001b[0;34m()\u001b[0m\n\u001b[1;32m      2\u001b[0m \u001b[0;31m#Excepción lanzada cuando intentamos indexar alguna estructura de datos como lista, tupla o incluso una cadena más allá de sus límites.\u001b[0m\u001b[0;34m\u001b[0m\u001b[0;34m\u001b[0m\u001b[0m\n\u001b[1;32m      3\u001b[0m \u001b[0mlista\u001b[0m \u001b[0;34m=\u001b[0m \u001b[0;34m[\u001b[0m\u001b[0;36m1\u001b[0m\u001b[0;34m,\u001b[0m \u001b[0;36m2\u001b[0m\u001b[0;34m,\u001b[0m \u001b[0;36m3\u001b[0m\u001b[0;34m]\u001b[0m\u001b[0;34m\u001b[0m\u001b[0;34m\u001b[0m\u001b[0m\n\u001b[0;32m----> 4\u001b[0;31m \u001b[0mlista\u001b[0m\u001b[0;34m[\u001b[0m\u001b[0;36m4\u001b[0m\u001b[0;34m]\u001b[0m\u001b[0;34m\u001b[0m\u001b[0;34m\u001b[0m\u001b[0m\n\u001b[0m",
            "\u001b[0;31mIndexError\u001b[0m: list index out of range"
          ]
        }
      ]
    },
    {
      "cell_type": "code",
      "source": [
        "#TypeError\n",
        "#Excepción lanzada cuando un operador o función se aplican a un objeto cuyo tipo es inapropiado.\n",
        "\"1\" + 1\n"
      ],
      "metadata": {
        "colab": {
          "base_uri": "https://localhost:8080/",
          "height": 176
        },
        "id": "-GmZfbJziyeB",
        "outputId": "009252c8-86b0-409f-d5c9-89077270f9a5"
      },
      "execution_count": 97,
      "outputs": [
        {
          "output_type": "error",
          "ename": "TypeError",
          "evalue": "can only concatenate str (not \"int\") to str",
          "traceback": [
            "\u001b[0;31m---------------------------------------------------------------------------\u001b[0m",
            "\u001b[0;31mTypeError\u001b[0m                                 Traceback (most recent call last)",
            "\u001b[0;32m/tmp/ipython-input-97-4008103971.py\u001b[0m in \u001b[0;36m<cell line: 0>\u001b[0;34m()\u001b[0m\n\u001b[1;32m      1\u001b[0m \u001b[0;31m#TypeError\u001b[0m\u001b[0;34m\u001b[0m\u001b[0;34m\u001b[0m\u001b[0m\n\u001b[1;32m      2\u001b[0m \u001b[0;31m#Excepción lanzada cuando un operador o función se aplican a un objeto cuyo tipo es inapropiado.\u001b[0m\u001b[0;34m\u001b[0m\u001b[0;34m\u001b[0m\u001b[0m\n\u001b[0;32m----> 3\u001b[0;31m \u001b[0;34m\"1\"\u001b[0m \u001b[0;34m+\u001b[0m \u001b[0;36m1\u001b[0m\u001b[0;34m\u001b[0m\u001b[0;34m\u001b[0m\u001b[0m\n\u001b[0m",
            "\u001b[0;31mTypeError\u001b[0m: can only concatenate str (not \"int\") to str"
          ]
        }
      ]
    },
    {
      "cell_type": "code",
      "source": [
        "#KeyError\n",
        "#Excepción lanzada cuando intentamos acceder a una clave que no está en el diccionario presente en nuestro código.\n",
        "estados = {'EM': 1, 'JC': 2, 'OA': 3}\n",
        "estados[\"MI\"]"
      ],
      "metadata": {
        "colab": {
          "base_uri": "https://localhost:8080/",
          "height": 176
        },
        "id": "6lzfsVyci3vh",
        "outputId": "14bcefc3-9090-4d90-9a1b-0ca1d7e1dae1"
      },
      "execution_count": 98,
      "outputs": [
        {
          "output_type": "error",
          "ename": "KeyError",
          "evalue": "'MI'",
          "traceback": [
            "\u001b[0;31m---------------------------------------------------------------------------\u001b[0m",
            "\u001b[0;31mKeyError\u001b[0m                                  Traceback (most recent call last)",
            "\u001b[0;32m/tmp/ipython-input-98-3064216588.py\u001b[0m in \u001b[0;36m<cell line: 0>\u001b[0;34m()\u001b[0m\n\u001b[1;32m      2\u001b[0m \u001b[0;31m#Excepción lanzada cuando intentamos acceder a una clave que no está en el diccionario presente en nuestro código.\u001b[0m\u001b[0;34m\u001b[0m\u001b[0;34m\u001b[0m\u001b[0m\n\u001b[1;32m      3\u001b[0m \u001b[0mestados\u001b[0m \u001b[0;34m=\u001b[0m \u001b[0;34m{\u001b[0m\u001b[0;34m'EM'\u001b[0m\u001b[0;34m:\u001b[0m \u001b[0;36m1\u001b[0m\u001b[0;34m,\u001b[0m \u001b[0;34m'JC'\u001b[0m\u001b[0;34m:\u001b[0m \u001b[0;36m2\u001b[0m\u001b[0;34m,\u001b[0m \u001b[0;34m'OA'\u001b[0m\u001b[0;34m:\u001b[0m \u001b[0;36m3\u001b[0m\u001b[0;34m}\u001b[0m\u001b[0;34m\u001b[0m\u001b[0;34m\u001b[0m\u001b[0m\n\u001b[0;32m----> 4\u001b[0;31m \u001b[0mestados\u001b[0m\u001b[0;34m[\u001b[0m\u001b[0;34m\"MI\"\u001b[0m\u001b[0;34m]\u001b[0m\u001b[0;34m\u001b[0m\u001b[0;34m\u001b[0m\u001b[0m\n\u001b[0m",
            "\u001b[0;31mKeyError\u001b[0m: 'MI'"
          ]
        }
      ]
    },
    {
      "cell_type": "markdown",
      "source": [],
      "metadata": {
        "id": "4We1Y6Hli8r0"
      }
    },
    {
      "cell_type": "code",
      "source": [
        "#Warning\n",
        "#Excepción lanzada en situaciones en las que necesitamos alertar al usuario sobre algunas condiciones del código\n",
        "import numpy as np\n",
        "\n",
        "a = np.arange(5)\n",
        "a / a  # presenta una advertencia"
      ],
      "metadata": {
        "id": "w3VejNUGjALP"
      },
      "execution_count": null,
      "outputs": []
    }
  ]
}