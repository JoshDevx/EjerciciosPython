{
  "nbformat": 4,
  "nbformat_minor": 0,
  "metadata": {
    "colab": {
      "provenance": [],
      "authorship_tag": "ABX9TyNWagJYdlIJd5xHqkmEQsax",
      "include_colab_link": true
    },
    "kernelspec": {
      "name": "python3",
      "display_name": "Python 3"
    },
    "language_info": {
      "name": "python"
    }
  },
  "cells": [
    {
      "cell_type": "markdown",
      "metadata": {
        "id": "view-in-github",
        "colab_type": "text"
      },
      "source": [
        "<a href=\"https://colab.research.google.com/github/JoshDevx/EjerciciosPython/blob/main/Untitled2.ipynb\" target=\"_parent\"><img src=\"https://colab.research.google.com/assets/colab-badge.svg\" alt=\"Open In Colab\"/></a>"
      ]
    },
    {
      "cell_type": "code",
      "execution_count": 1,
      "metadata": {
        "id": "TtTrpwtnXs6s"
      },
      "outputs": [],
      "source": [
        "lista = [16, 14, 63, 65, 17, 99, 70, 11, 20, 48, 79, 32, 17, 89, 12, 25, 66]\n",
        "# 1. Leer el tamaño de la lista\n",
        "# 2. Leer el valor máximo y mínimo\n",
        "# 3. Calcular la suma de los valores de la lista\n",
        "# 4. Mostrar un mensaje al final: La lista tiene `tamano` números, donde el mayor\n",
        "# es `mayor` y el menor es `menor`. La suma de los valores es `suma`."
      ]
    },
    {
      "cell_type": "code",
      "source": [
        "def leer_lista(lista):\n",
        "  longitud = len(lista)\n",
        "  mayor = max(lista)\n",
        "  menor = min(lista)\n",
        "  suma = sum(lista)\n",
        "  print(f\"La lista tiene {longitud} números, donde el mayor es {mayor} y el menor es {menor}. La suma de los valores es {suma}.\")"
      ],
      "metadata": {
        "id": "iJbnjm3pXteS"
      },
      "execution_count": 3,
      "outputs": []
    },
    {
      "cell_type": "code",
      "source": [
        "leer_lista(lista)"
      ],
      "metadata": {
        "colab": {
          "base_uri": "https://localhost:8080/"
        },
        "id": "lrqPn-xyXthJ",
        "outputId": "8b4fcb49-deba-44f8-b282-559384518ca1"
      },
      "execution_count": 4,
      "outputs": [
        {
          "output_type": "stream",
          "name": "stdout",
          "text": [
            "La lista tiene 17 números, donde el mayor es 99 y el menor es 11. La suma de los valores es 743.\n"
          ]
        }
      ]
    },
    {
      "cell_type": "code",
      "source": [
        "#Tabla de multiplicar\n",
        "valor_usuario = input('Ingrese un numero')\n",
        "def tabla_multiplicar(valor_usuario):\n",
        "  for i in range(1,11):\n",
        "    print(f'{valor_usuario} x {i} = {int(valor_usuario)*i}')"
      ],
      "metadata": {
        "colab": {
          "base_uri": "https://localhost:8080/"
        },
        "id": "UcnMM2mcXtj6",
        "outputId": "c0494daf-1a9d-4f91-aad3-1aa95949bb58"
      },
      "execution_count": 5,
      "outputs": [
        {
          "name": "stdout",
          "output_type": "stream",
          "text": [
            "Ingrese un numero5\n"
          ]
        }
      ]
    },
    {
      "cell_type": "code",
      "source": [
        "tabla_multiplicar(valor_usuario)"
      ],
      "metadata": {
        "colab": {
          "base_uri": "https://localhost:8080/"
        },
        "id": "w5-617JqXtm6",
        "outputId": "b77662d3-ce4e-4230-bc2d-58cb870a3243"
      },
      "execution_count": 6,
      "outputs": [
        {
          "output_type": "stream",
          "name": "stdout",
          "text": [
            "5 x 1 = 5\n",
            "5 x 2 = 10\n",
            "5 x 3 = 15\n",
            "5 x 4 = 20\n",
            "5 x 5 = 25\n",
            "5 x 6 = 30\n",
            "5 x 7 = 35\n",
            "5 x 8 = 40\n",
            "5 x 9 = 45\n",
            "5 x 10 = 50\n"
          ]
        }
      ]
    },
    {
      "cell_type": "code",
      "source": [
        "calcular_multiplos = [97, 80, 94, 88, 80, 1, 16, 53, 62, 32, 24, 99]\n",
        "def multiplos_de_3(calcular_multiplos):\n",
        "  for i in range(len(calcular_multiplos)):\n",
        "    if calcular_multiplos[i] % 3 == 0:\n",
        "      print(calcular_multiplos[i])"
      ],
      "metadata": {
        "id": "0AlIdrwQXtpi"
      },
      "execution_count": 7,
      "outputs": []
    },
    {
      "cell_type": "code",
      "source": [
        "multiplos_de_3(calcular_multiplos)"
      ],
      "metadata": {
        "colab": {
          "base_uri": "https://localhost:8080/"
        },
        "id": "C6LcIF1TYtz_",
        "outputId": "a7e0301b-3618-49f7-fe83-f6d61808dd0d"
      },
      "execution_count": 8,
      "outputs": [
        {
          "output_type": "stream",
          "name": "stdout",
          "text": [
            "24\n",
            "99\n"
          ]
        }
      ]
    },
    {
      "cell_type": "code",
      "source": [
        "lista_numeros = [1,3,4,5,6,7,8,9,10]\n",
        "cuadrados = map(lambda x: x**2,lista_numeros)\n",
        "\n",
        "resultado = list(cuadrados)\n",
        "print(resultado)"
      ],
      "metadata": {
        "colab": {
          "base_uri": "https://localhost:8080/"
        },
        "id": "IGnCzcLwYt2f",
        "outputId": "50bd6b88-2819-4dbc-d828-39942cbb4ec5"
      },
      "execution_count": 10,
      "outputs": [
        {
          "output_type": "stream",
          "name": "stdout",
          "text": [
            "[1, 9, 16, 25, 36, 49, 64, 81, 100]\n"
          ]
        }
      ]
    },
    {
      "cell_type": "code",
      "source": [
        "cuenta  = 1\n",
        "lista_notas = []\n",
        "while cuenta <= 5:\n",
        "  nota = int(input('Ingrese una nota'))\n",
        "  lista_notas.append(nota)\n",
        "  cuenta += 1\n",
        "print(lista_notas)"
      ],
      "metadata": {
        "colab": {
          "base_uri": "https://localhost:8080/"
        },
        "id": "bHEvqfz7Yt42",
        "outputId": "97fc6097-b74f-4708-e897-dcef85a1a7ed"
      },
      "execution_count": 11,
      "outputs": [
        {
          "output_type": "stream",
          "name": "stdout",
          "text": [
            "Ingrese una nota12\n",
            "Ingrese una nota15\n",
            "Ingrese una nota16\n",
            "Ingrese una nota18\n",
            "Ingrese una nota20\n",
            "[12, 15, 16, 18, 20]\n"
          ]
        }
      ]
    },
    {
      "cell_type": "code",
      "source": [
        "def detalle_notas(lista_notas_participante):\n",
        "  calculo_1 = sum(lista_notas_participante) / len(lista_notas_participante)\n",
        "  calculo_2 = max(lista_notas_participante)\n",
        "  calculo_3 = min(lista_notas_participante)\n",
        "  return f'El promedio de las notas es:{calculo_1}, la nota mamxima es:{calculo_2} y la nota minima es:{calculo_3}'\n",
        "\n",
        "resultados_notas = detalle_notas(lista_notas)\n",
        "print(resultados_notas)"
      ],
      "metadata": {
        "colab": {
          "base_uri": "https://localhost:8080/"
        },
        "id": "n6okbpeoeMD2",
        "outputId": "81cee9c4-8997-422b-9546-00e8f12a47a2"
      },
      "execution_count": 13,
      "outputs": [
        {
          "output_type": "stream",
          "name": "stdout",
          "text": [
            "El promedio de las notas es:16.2, la nota mamxima es:20 y la nota minima es:12\n"
          ]
        }
      ]
    },
    {
      "cell_type": "code",
      "source": [
        "notas_alumnos = [14,16,20,12]"
      ],
      "metadata": {
        "id": "ViaRbUfHe4Mp"
      },
      "execution_count": 14,
      "outputs": []
    },
    {
      "cell_type": "code",
      "source": [
        "def rendimiento_estudiante(lista_notas_estudiantes):\n",
        "  nota_maxima = max(lista_notas_estudiantes)\n",
        "  nota_minima = min(lista_notas_estudiantes)\n",
        "  media = sum(lista_notas_estudiantes) / len(lista_notas_estudiantes)\n",
        "  if media >= 13:\n",
        "    situacion =  'Aprobado'\n",
        "  elif media >= 14:\n",
        "    situacion = 'Desaprobado'\n",
        "  return f'El estudiante obtuvo una media de {media}, con la mayor nota de {nota_maxima} puntos y la menor nota de {nota_minima} puntos y fue {situacion}.'"
      ],
      "metadata": {
        "id": "CxI1aDAtfo9z"
      },
      "execution_count": 15,
      "outputs": []
    },
    {
      "cell_type": "code",
      "source": [
        "resultados_rendimiento = rendimiento_estudiante(notas_alumnos)\n",
        "print(resultados_rendimiento)"
      ],
      "metadata": {
        "colab": {
          "base_uri": "https://localhost:8080/"
        },
        "id": "EZoOFe3hfpAE",
        "outputId": "72182e6f-9d31-49c4-8a5c-c2b826d1e993"
      },
      "execution_count": 16,
      "outputs": [
        {
          "output_type": "stream",
          "name": "stdout",
          "text": [
            "El estudiante obtuvo una media de 15.5, con la mayor nota de 20 puntos y la menor nota de 12 puntos y fue Aprobado.\n"
          ]
        }
      ]
    },
    {
      "cell_type": "code",
      "source": [
        "nombres = [\"juan\", \"MaRia\", \"JOSÉ\"]\n",
        "apellidos = [\"SILVA\", \"sosa\", \"Tavares\"]\n",
        "\n",
        "# Normalizar nombres y apellidos y crear una nueva lista con los nombres completos\n",
        "# Puedes apoyarte en la función map()\n"
      ],
      "metadata": {
        "id": "iNIhivMJg_E-"
      },
      "execution_count": 17,
      "outputs": []
    },
    {
      "cell_type": "code",
      "source": [
        "nombres_apellidos = map(lambda x, y: x.capitalize() + ' ' + y.capitalize(), nombres, apellidos)\n"
      ],
      "metadata": {
        "id": "DmhtVdnIhjH3"
      },
      "execution_count": 18,
      "outputs": []
    },
    {
      "cell_type": "code",
      "source": [
        "nombres_apellidos = list(nombres_apellidos)\n",
        "print(nombres_apellidos)"
      ],
      "metadata": {
        "colab": {
          "base_uri": "https://localhost:8080/"
        },
        "id": "yKmeKFcHhwmn",
        "outputId": "0cf5c946-ce56-40fb-ff11-a2dc1da9704f"
      },
      "execution_count": 19,
      "outputs": [
        {
          "output_type": "stream",
          "name": "stdout",
          "text": [
            "['Juan Silva', 'Maria Sosa', 'José Tavares']\n"
          ]
        }
      ]
    },
    {
      "cell_type": "code",
      "source": [
        "goles_marcados = [2, 1, 3, 1, 0]\n",
        "goles_recibidos = [1, 2, 2, 1, 3]\n",
        "# Texto probablemente mostrado:\n",
        "# La puntuación del equipo fue `puntos` y su rendimiento fue `desempeno`%\"\n",
        "\n",
        "#situacion = lambda x: 'Aprobado(a)' if x >= 7 else 'Reprobado(a)'\n",
        "#situacion(promedio)\n",
        "\n",
        "def calcula_puntos(lista_goles_1, lista_goles_2):\n",
        "  puntos_totales = 0\n",
        "  for i in range(len(lista_goles_1)):\n",
        "    if lista_goles_1[i] > lista_goles_2[i]:\n",
        "      puntos_totales += 3\n",
        "    elif lista_goles_1[i] == lista_goles_2[i]:\n",
        "      puntos_totales += 1\n",
        "    return puntos_totales"
      ],
      "metadata": {
        "id": "MoaqozifhzHv"
      },
      "execution_count": 38,
      "outputs": []
    },
    {
      "cell_type": "code",
      "source": [
        "rendimiento = (puntos_totales / (len(goles_marcados) * 3)) * 100"
      ],
      "metadata": {
        "id": "f0i02OZenSFc"
      },
      "execution_count": 39,
      "outputs": []
    },
    {
      "cell_type": "code",
      "source": [
        "resultado = calcula_puntos(goles_marcados, goles_recibidos)\n",
        "print(resultado)"
      ],
      "metadata": {
        "colab": {
          "base_uri": "https://localhost:8080/"
        },
        "id": "2LSrvxnpnUN7",
        "outputId": "5269fbbc-db7d-48b9-fd92-156acc460f1c"
      },
      "execution_count": 40,
      "outputs": [
        {
          "output_type": "stream",
          "name": "stdout",
          "text": [
            "3\n"
          ]
        }
      ]
    },
    {
      "cell_type": "code",
      "source": [
        "\n",
        "def xd(a,b):\n",
        "  iterador = 0\n",
        "  resultado = 0\n",
        "  while iterador < len(a):\n",
        "    if a[iterador] > b[iterador]:\n",
        "      resultado += 3\n",
        "    elif a[iterador] == b[iterador]:\n",
        "      resultado += 1\n",
        "    iterador += 1\n",
        "  rendimiento = (resultado / (len(a)*3))*100\n",
        "  return f'La puntuación del equipo fue {resultado} y su rendimiento fue {round(rendimiento,2)}`%'"
      ],
      "metadata": {
        "id": "rKYKUrJ-n4cc"
      },
      "execution_count": 51,
      "outputs": []
    },
    {
      "cell_type": "code",
      "source": [
        "xd(goles_marcados,goles_recibidos)"
      ],
      "metadata": {
        "colab": {
          "base_uri": "https://localhost:8080/",
          "height": 36
        },
        "id": "UdrCo8b3q_Ox",
        "outputId": "55fa004a-d0e8-426b-fbfa-553bd07daf7a"
      },
      "execution_count": 52,
      "outputs": [
        {
          "output_type": "execute_result",
          "data": {
            "text/plain": [
              "'La puntuación del equipo fue 7 y su rendimiento fue 46.67`%'"
            ],
            "application/vnd.google.colaboratory.intrinsic+json": {
              "type": "string"
            }
          },
          "metadata": {},
          "execution_count": 52
        }
      ]
    },
    {
      "cell_type": "code",
      "source": [
        "#Costo diario de hotel 150\n",
        "#gasto de gasolina 14mk/l\n",
        "#costo gasolina 5 reales/litro\n",
        "#alimentación a realizar en cada una de ellas por día serían\n",
        "kilometro_por_litro = 14\n",
        "costo_diario_hotel = 150\n",
        "precio_gasolina_litro = 5\n",
        "ciudades = ['Salvador','Fortaleza','Natal','Aracaju']\n",
        "alimentacion = [200, 400, 250, 300]\n",
        "kilometros = [850, 800, 300, 550]\n",
        "\n",
        "\n"
      ],
      "metadata": {
        "id": "WoOhdsbNrEXR"
      },
      "execution_count": 128,
      "outputs": []
    },
    {
      "cell_type": "code",
      "source": [
        "#Días de estadia en hotel\n",
        "dias_hotel = int(input('Ingrese los dias de hospedaje:'))\n"
      ],
      "metadata": {
        "colab": {
          "base_uri": "https://localhost:8080/"
        },
        "id": "AEs36BmaCjs8",
        "outputId": "54a2a7ca-0fdf-4771-88f2-8388d2851a5f"
      },
      "execution_count": 129,
      "outputs": [
        {
          "name": "stdout",
          "output_type": "stream",
          "text": [
            "Ingrese los dias de hospedaje:3\n"
          ]
        }
      ]
    },
    {
      "cell_type": "code",
      "source": [
        "#Ciudad de destino\n",
        "ciudad = input('Ingrese la ciudad a consultar')"
      ],
      "metadata": {
        "colab": {
          "base_uri": "https://localhost:8080/"
        },
        "id": "Im0l78sVCm9-",
        "outputId": "352ebaaf-bba4-4440-f25c-be9cf468c87d"
      },
      "execution_count": 130,
      "outputs": [
        {
          "name": "stdout",
          "output_type": "stream",
          "text": [
            "Ingrese la ciudad a consultarSalvador\n"
          ]
        }
      ]
    },
    {
      "cell_type": "code",
      "source": [
        "#Gasto de Hotel por los días de estadia\n",
        "gasto_hotel = lambda x: x * 150\n",
        "precio_hotel_total = gasto_hotel(dias_hotel)"
      ],
      "metadata": {
        "id": "u_pOSZtwChLF"
      },
      "execution_count": 132,
      "outputs": []
    },
    {
      "cell_type": "code",
      "source": [
        "#Función para convertir listas en diccionario\n",
        "def convertir_listas_en_dict(lista_1, lista2):\n",
        "  #zip une las listas y los convierte en tuplas\n",
        "  pares = zip(lista_1, lista2)\n",
        "  #dict convierte pares de tuplas en diccionario\n",
        "  lista_convertida = dict(list(pares))\n",
        "  return lista_convertida"
      ],
      "metadata": {
        "id": "xbKmARzA4hVd"
      },
      "execution_count": 133,
      "outputs": []
    },
    {
      "cell_type": "code",
      "source": [
        "ciudades_kilometros = convertir_listas_en_dict(ciudades,kilometros)\n",
        "\n",
        "#Función para calcular el gasto de combustible de ida y vuelta\n",
        "def gasto_gasolina_ida_y_vuelta(costo_combustile, ciudad):\n",
        "  distancia_ida_y_vuelta = costo_combustile * (ciudades_kilometros[ciudad] / kilometro_por_litro)\n",
        "  return distancia_ida_y_vuelta * 2"
      ],
      "metadata": {
        "id": "35-m3d768KYh"
      },
      "execution_count": 134,
      "outputs": []
    },
    {
      "cell_type": "code",
      "source": [
        "#Resultado\n",
        "gasto_combustible_ida_vuelta = gasto_gasolina_ida_y_vuelta(precio_gasolina_litro, ciudad)\n",
        "print(gasto_combustible_ida_vuelta)"
      ],
      "metadata": {
        "colab": {
          "base_uri": "https://localhost:8080/"
        },
        "id": "Bb8tXWqw71KY",
        "outputId": "0b5b7bbf-f0b1-4f45-c2b6-bece3693cfb9"
      },
      "execution_count": 140,
      "outputs": [
        {
          "output_type": "stream",
          "name": "stdout",
          "text": [
            "607.1428571428571\n"
          ]
        }
      ]
    },
    {
      "cell_type": "code",
      "source": [
        "ciudad_alimentacion = convertir_listas_en_dict(ciudades,alimentacion)"
      ],
      "metadata": {
        "id": "ZeI27kk58I2O"
      },
      "execution_count": 136,
      "outputs": []
    },
    {
      "cell_type": "code",
      "source": [
        "#Función para calcular el costo total del paseo(alimentación)\n",
        "def gasto_paseo(ciudad_,dias):\n",
        "  costo_paseo = ciudad_alimentacion[ciudad_] * dias\n",
        "  return costo_paseo"
      ],
      "metadata": {
        "id": "EfFBG6Vw-mtr"
      },
      "execution_count": 137,
      "outputs": []
    },
    {
      "cell_type": "code",
      "source": [
        "gasto_por_paseo = gasto_paseo(ciudad,dias_hotel)"
      ],
      "metadata": {
        "id": "HzEp2YkaB5Ay"
      },
      "execution_count": 138,
      "outputs": []
    },
    {
      "cell_type": "code",
      "source": [
        "#Impresión final de resultados\n",
        "mensaje = f'Con base en los gastos definidos, un viaje de {dias_hotel} días a {ciudad} desde recife costaría {round(precio_hotel_total + gasto_combustible_ida_vuelta + gasto_por_paseo,2)} reales.'\n",
        "print(mensaje)"
      ],
      "metadata": {
        "colab": {
          "base_uri": "https://localhost:8080/"
        },
        "id": "zbloRt7vB65Z",
        "outputId": "ce5796c9-9d18-4542-bf42-a28f0fbd16fb"
      },
      "execution_count": 141,
      "outputs": [
        {
          "output_type": "stream",
          "name": "stdout",
          "text": [
            "Con base en los gastos definidos, un viaje de 3 días a Salvador desde recife costaría 1657.14 reales.\n"
          ]
        }
      ]
    },
    {
      "cell_type": "code",
      "source": [],
      "metadata": {
        "id": "tV8s7XCDHHa1"
      },
      "execution_count": null,
      "outputs": []
    }
  ]
}